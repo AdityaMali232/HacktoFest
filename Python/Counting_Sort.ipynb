{
 "cells": [
  {
   "cell_type": "code",
   "execution_count": 11,
   "id": "20b543d2",
   "metadata": {
    "scrolled": true
   },
   "outputs": [
    {
     "name": "stdout",
     "output_type": "stream",
     "text": [
      "Enter the size of the array :7\n",
      "Enter 1 digit of the array :2\n",
      "Enter 2 digit of the array :9\n",
      "Enter 3 digit of the array :7\n",
      "Enter 4 digit of the array :4\n",
      "Enter 5 digit of the array :1\n",
      "Enter 6 digit of the array :8\n",
      "Enter 7 digit of the array :4\n",
      "[1, 2, 4, 4, 7, 8, 9]\n"
     ]
    }
   ],
   "source": [
    " \n",
    "# For taking input in array\n",
    "def input_fun(arr):\n",
    "    size=int(input(\"Enter the size of the array :\"))\n",
    "    try:\n",
    "        for i in range(size):\n",
    "            temp=int(input(\"Enter \"+str(i+1)+\" digit of the array :\"))\n",
    "            arr.append(temp)\n",
    "    except:\n",
    "        print(\"Invalid input!Plz enter corrct one\")\n",
    "        \n",
    "# commulative sum\n",
    "def commulative_sum(arr):\n",
    "    for i in range(1,len(arr)):\n",
    "        arr[i]=arr[i]+arr[i-1]\n",
    "    return arr   \n",
    "\n",
    "# Counting Sort\n",
    "def Counting_Sort(arr):\n",
    "    # To check if the array contain negative numbers or not\n",
    "    # if array have,turn it into positive and it in whole array\n",
    "    min_dig=min(arr)\n",
    "    if(min_dig<0):\n",
    "        for i in range(len(arr)):\n",
    "            add=min_dig*-1\n",
    "            arr[i]+=add\n",
    "    # To create a array of maximum element +1        \n",
    "    max_dig=max(arr)\n",
    "    ra=max_dig+1\n",
    "    counnt=[0]*ra\n",
    "    # output array will be of same size of input array\n",
    "    output=[0]*len(arr)\n",
    "    # Count of each element \n",
    "    for i in range(0,len(arr)):\n",
    "        j=arr[i]\n",
    "        counnt[j]=counnt[j]+1\n",
    "    # for their respective sum    \n",
    "    counnt=commulative_sum(counnt)\n",
    "    for i in range(len(arr)-1,-1,-1):\n",
    "        j=arr[i]\n",
    "        counnt[j]-=1\n",
    "        output[counnt[j]]=arr[i]\n",
    "    # Now again checking to convert the array into origional form    \n",
    "    if(min_dig<0):\n",
    "         for i in range(len(output)):\n",
    "            output[i]+=min_dig\n",
    "    return output\n",
    "# Main \n",
    "\n",
    "A=[]\n",
    "input_fun(A)\n",
    "B=Counting_Sort(A)\n",
    "print(B)"
   ]
  },
  {
   "cell_type": "code",
   "execution_count": null,
   "id": "043337e6",
   "metadata": {},
   "outputs": [],
   "source": []
  },
  {
   "cell_type": "code",
   "execution_count": null,
   "id": "2f52fcd6",
   "metadata": {},
   "outputs": [],
   "source": []
  }
 ],
 "metadata": {
  "kernelspec": {
   "display_name": "Python 3",
   "language": "python",
   "name": "python3"
  },
  "language_info": {
   "codemirror_mode": {
    "name": "ipython",
    "version": 3
   },
   "file_extension": ".py",
   "mimetype": "text/x-python",
   "name": "python",
   "nbconvert_exporter": "python",
   "pygments_lexer": "ipython3",
   "version": "3.8.8"
  }
 },
 "nbformat": 4,
 "nbformat_minor": 5
}
